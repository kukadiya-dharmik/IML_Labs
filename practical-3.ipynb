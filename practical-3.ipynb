{
 "cells": [
  {
   "cell_type": "markdown",
   "id": "de967130",
   "metadata": {
    "_cell_guid": "b1076dfc-b9ad-4769-8c92-a6c4dae69d19",
    "_uuid": "8f2839f25d086af736a60e9eeb907d3b93b6e0e5",
    "papermill": {
     "duration": 0.005393,
     "end_time": "2023-09-10T07:14:36.136062",
     "exception": false,
     "start_time": "2023-09-10T07:14:36.130669",
     "status": "completed"
    },
    "tags": []
   },
   "source": [
    "# Practical - 3 : Write a NumPy program to implement following operation"
   ]
  },
  {
   "cell_type": "markdown",
   "id": "dcd32064",
   "metadata": {
    "papermill": {
     "duration": 0.004214,
     "end_time": "2023-09-10T07:14:36.145196",
     "exception": false,
     "start_time": "2023-09-10T07:14:36.140982",
     "status": "completed"
    },
    "tags": []
   },
   "source": [
    "### • to split an array of 14 elements into 3 arrays, each with 2, 4, and 8 elements in the original order"
   ]
  },
  {
   "cell_type": "code",
   "execution_count": 1,
   "id": "fae47839",
   "metadata": {
    "execution": {
     "iopub.execute_input": "2023-09-10T07:14:36.156725Z",
     "iopub.status.busy": "2023-09-10T07:14:36.156304Z",
     "iopub.status.idle": "2023-09-10T07:14:36.174120Z",
     "shell.execute_reply": "2023-09-10T07:14:36.172649Z"
    },
    "papermill": {
     "duration": 0.027364,
     "end_time": "2023-09-10T07:14:36.177260",
     "exception": false,
     "start_time": "2023-09-10T07:14:36.149896",
     "status": "completed"
    },
    "tags": []
   },
   "outputs": [
    {
     "name": "stdout",
     "output_type": "stream",
     "text": [
      "Original array: [ 1  2  3  4  5  6  7  8  9 10 11 12 13 14]\n",
      "After splitting:\n",
      "[array([1, 2]), array([3, 4, 5, 6]), array([ 7,  8,  9, 10, 11, 12, 13, 14])]\n"
     ]
    }
   ],
   "source": [
    "# Name : Dharmik M Kukadiya \n",
    "#Enrollment : 216270307003\n",
    "\n",
    "import numpy as np\n",
    "\n",
    "x = np.arange(1, 15)\n",
    "print(\"Original array:\",x)\n",
    "\n",
    "print(\"After splitting:\")\n",
    "\n",
    "print(np.split(x, [2, 6]))"
   ]
  },
  {
   "cell_type": "markdown",
   "id": "349a8afa",
   "metadata": {
    "papermill": {
     "duration": 0.004643,
     "end_time": "2023-09-10T07:14:36.186974",
     "exception": false,
     "start_time": "2023-09-10T07:14:36.182331",
     "status": "completed"
    },
    "tags": []
   },
   "source": [
    "### • to stack arrays horizontally (column wise)"
   ]
  },
  {
   "cell_type": "code",
   "execution_count": 2,
   "id": "0ddb03a2",
   "metadata": {
    "execution": {
     "iopub.execute_input": "2023-09-10T07:14:36.198310Z",
     "iopub.status.busy": "2023-09-10T07:14:36.197753Z",
     "iopub.status.idle": "2023-09-10T07:14:36.206245Z",
     "shell.execute_reply": "2023-09-10T07:14:36.204861Z"
    },
    "papermill": {
     "duration": 0.018357,
     "end_time": "2023-09-10T07:14:36.210133",
     "exception": false,
     "start_time": "2023-09-10T07:14:36.191776",
     "status": "completed"
    },
    "tags": []
   },
   "outputs": [
    {
     "name": "stdout",
     "output_type": "stream",
     "text": [
      "1st Input array : \n",
      " [1 2 3]\n",
      "2nd Input array : \n",
      " [4 5 6]\n",
      "Output horizontally stacked array:\n",
      "  [1 2 3 4 5 6]\n"
     ]
    }
   ],
   "source": [
    "# Name : Dharmik M Kukadiya \n",
    "#Enrollment : 216270307003\n",
    "\n",
    "import numpy as np\n",
    "\n",
    "i = np.array([ 1, 2, 3] )\n",
    "print (\"1st Input array : \\n\", i)\n",
    "\n",
    "in2 = np.array([ 4, 5, 6] )\n",
    "print (\"2nd Input array : \\n\", in2)\n",
    "\n",
    "out = np.hstack((i, in2))\n",
    "print (\"Output horizontally stacked array:\\n \", out)"
   ]
  }
 ],
 "kernelspec": {
  "display_name": "Python 3",
  "language": "python",
  "name": "python3"
 },
 "language_info": {
  "codemirror_mode": {
   "name": "ipython",
   "version": 3
  },
  "file_extension": ".py",
  "mimetype": "text/x-python",
  "name": "python",
  "nbconvert_exporter": "python",
  "pygments_lexer": "ipython3",
  "version": "3.6.4"
 },
 "metadata": {
  "kernelspec": {
   "display_name": "Python 3",
   "language": "python",
   "name": "python3"
  },
  "language_info": {
   "codemirror_mode": {
    "name": "ipython",
    "version": 3
   },
   "file_extension": ".py",
   "mimetype": "text/x-python",
   "name": "python",
   "nbconvert_exporter": "python",
   "pygments_lexer": "ipython3",
   "version": "3.10.12"
  },
  "papermill": {
   "default_parameters": {},
   "duration": 4.520696,
   "end_time": "2023-09-10T07:14:36.637275",
   "environment_variables": {},
   "exception": null,
   "input_path": "__notebook__.ipynb",
   "output_path": "__notebook__.ipynb",
   "parameters": {},
   "start_time": "2023-09-10T07:14:32.116579",
   "version": "2.4.0"
  }
 },
 "nbformat": 4,
 "nbformat_minor": 5
}
