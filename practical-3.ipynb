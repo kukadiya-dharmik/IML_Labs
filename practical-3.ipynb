{
 "cells": [
  {
   "cell_type": "markdown",
   "id": "e66266e1",
   "metadata": {
    "_cell_guid": "b1076dfc-b9ad-4769-8c92-a6c4dae69d19",
    "_uuid": "8f2839f25d086af736a60e9eeb907d3b93b6e0e5",
    "papermill": {
     "duration": 0.004799,
     "end_time": "2023-09-10T07:12:49.368206",
     "exception": false,
     "start_time": "2023-09-10T07:12:49.363407",
     "status": "completed"
    },
    "tags": []
   },
   "source": [
    "# Write a NumPy program to implement following operation"
   ]
  },
  {
   "cell_type": "markdown",
   "id": "973e1a99",
   "metadata": {
    "papermill": {
     "duration": 0.003908,
     "end_time": "2023-09-10T07:12:49.376522",
     "exception": false,
     "start_time": "2023-09-10T07:12:49.372614",
     "status": "completed"
    },
    "tags": []
   },
   "source": [
    "### • to split an array of 14 elements into 3 arrays, each with 2, 4, and 8 elements in the original order"
   ]
  },
  {
   "cell_type": "code",
   "execution_count": 1,
   "id": "806c4477",
   "metadata": {
    "execution": {
     "iopub.execute_input": "2023-09-10T07:12:49.386886Z",
     "iopub.status.busy": "2023-09-10T07:12:49.386198Z",
     "iopub.status.idle": "2023-09-10T07:12:49.400920Z",
     "shell.execute_reply": "2023-09-10T07:12:49.399772Z"
    },
    "papermill": {
     "duration": 0.02366,
     "end_time": "2023-09-10T07:12:49.404261",
     "exception": false,
     "start_time": "2023-09-10T07:12:49.380601",
     "status": "completed"
    },
    "tags": []
   },
   "outputs": [
    {
     "name": "stdout",
     "output_type": "stream",
     "text": [
      "Original array: [ 1  2  3  4  5  6  7  8  9 10 11 12 13 14]\n",
      "After splitting:\n",
      "[array([1, 2]), array([3, 4, 5, 6]), array([ 7,  8,  9, 10, 11, 12, 13, 14])]\n"
     ]
    }
   ],
   "source": [
    "# Name : Dharmik M Kukadiya \n",
    "#Enrollment : 216270307003\n",
    "\n",
    "import numpy as np\n",
    "\n",
    "x = np.arange(1, 15)\n",
    "print(\"Original array:\",x)\n",
    "\n",
    "print(\"After splitting:\")\n",
    "\n",
    "print(np.split(x, [2, 6]))"
   ]
  },
  {
   "cell_type": "markdown",
   "id": "b5680ecf",
   "metadata": {
    "papermill": {
     "duration": 0.00402,
     "end_time": "2023-09-10T07:12:49.412705",
     "exception": false,
     "start_time": "2023-09-10T07:12:49.408685",
     "status": "completed"
    },
    "tags": []
   },
   "source": [
    "### • to stack arrays horizontally (column wise)"
   ]
  },
  {
   "cell_type": "code",
   "execution_count": 2,
   "id": "0c081586",
   "metadata": {
    "execution": {
     "iopub.execute_input": "2023-09-10T07:12:49.422956Z",
     "iopub.status.busy": "2023-09-10T07:12:49.422124Z",
     "iopub.status.idle": "2023-09-10T07:12:49.430226Z",
     "shell.execute_reply": "2023-09-10T07:12:49.428893Z"
    },
    "papermill": {
     "duration": 0.015964,
     "end_time": "2023-09-10T07:12:49.432778",
     "exception": false,
     "start_time": "2023-09-10T07:12:49.416814",
     "status": "completed"
    },
    "tags": []
   },
   "outputs": [
    {
     "name": "stdout",
     "output_type": "stream",
     "text": [
      "1st Input array : \n",
      " [1 2 3]\n",
      "2nd Input array : \n",
      " [4 5 6]\n",
      "Output horizontally stacked array:\n",
      "  [1 2 3 4 5 6]\n"
     ]
    }
   ],
   "source": [
    "# Name : Dharmik M Kukadiya \n",
    "#Enrollment : 216270307003\n",
    "\n",
    "import numpy as np\n",
    "\n",
    "i = np.array([ 1, 2, 3] )\n",
    "print (\"1st Input array : \\n\", i)\n",
    "\n",
    "in2 = np.array([ 4, 5, 6] )\n",
    "print (\"2nd Input array : \\n\", in2)\n",
    "\n",
    "out = np.hstack((i, in2))\n",
    "print (\"Output horizontally stacked array:\\n \", out)"
   ]
  }
 ],
 "kernelspec": {
  "display_name": "Python 3",
  "language": "python",
  "name": "python3"
 },
 "language_info": {
  "codemirror_mode": {
   "name": "ipython",
   "version": 3
  },
  "file_extension": ".py",
  "mimetype": "text/x-python",
  "name": "python",
  "nbconvert_exporter": "python",
  "pygments_lexer": "ipython3",
  "version": "3.6.4"
 },
 "metadata": {
  "kernelspec": {
   "display_name": "Python 3",
   "language": "python",
   "name": "python3"
  },
  "language_info": {
   "codemirror_mode": {
    "name": "ipython",
    "version": 3
   },
   "file_extension": ".py",
   "mimetype": "text/x-python",
   "name": "python",
   "nbconvert_exporter": "python",
   "pygments_lexer": "ipython3",
   "version": "3.10.12"
  },
  "papermill": {
   "default_parameters": {},
   "duration": 4.276454,
   "end_time": "2023-09-10T07:12:49.857004",
   "environment_variables": {},
   "exception": null,
   "input_path": "__notebook__.ipynb",
   "output_path": "__notebook__.ipynb",
   "parameters": {},
   "start_time": "2023-09-10T07:12:45.580550",
   "version": "2.4.0"
  }
 },
 "nbformat": 4,
 "nbformat_minor": 5
}
