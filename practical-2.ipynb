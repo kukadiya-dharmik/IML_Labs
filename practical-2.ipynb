{
 "cells": [
  {
   "cell_type": "markdown",
   "id": "5c728bf4",
   "metadata": {
    "papermill": {
     "duration": 0.00645,
     "end_time": "2023-09-05T09:53:25.985960",
     "exception": false,
     "start_time": "2023-09-05T09:53:25.979510",
     "status": "completed"
    },
    "tags": []
   },
   "source": [
    "# Practical 2 : Write a NumPy program to implement following operation"
   ]
  },
  {
   "cell_type": "markdown",
   "id": "32ab3708",
   "metadata": {
    "papermill": {
     "duration": 0.005129,
     "end_time": "2023-09-05T09:53:25.997012",
     "exception": false,
     "start_time": "2023-09-05T09:53:25.991883",
     "status": "completed"
    },
    "tags": []
   },
   "source": [
    "### • to convert a list of numeric values into a one-dimensional NumPy array"
   ]
  },
  {
   "cell_type": "code",
   "execution_count": 1,
   "id": "47b51a80",
   "metadata": {
    "execution": {
     "iopub.execute_input": "2023-09-05T09:53:26.009710Z",
     "iopub.status.busy": "2023-09-05T09:53:26.009322Z",
     "iopub.status.idle": "2023-09-05T09:53:26.024935Z",
     "shell.execute_reply": "2023-09-05T09:53:26.023619Z"
    },
    "papermill": {
     "duration": 0.025527,
     "end_time": "2023-09-05T09:53:26.027870",
     "exception": false,
     "start_time": "2023-09-05T09:53:26.002343",
     "status": "completed"
    },
    "tags": []
   },
   "outputs": [
    {
     "name": "stdout",
     "output_type": "stream",
     "text": [
      "List:  [1, 7, 0, 6, 2, 5, 6]\n",
      "Array:  [1 7 0 6 2 5 6]\n"
     ]
    }
   ],
   "source": [
    "# Name : Dharmik M Kukadiya \n",
    "#Enrollment : 216270307003\n",
    "\n",
    "import numpy\n",
    "\n",
    "l = [1, 7, 0, 6, 2, 5, 6]\n",
    "\n",
    "a = numpy.array(l)\n",
    "\n",
    "print (\"List: \", l)\n",
    "\n",
    "print (\"Array: \", a)"
   ]
  },
  {
   "cell_type": "markdown",
   "id": "8c6061b2",
   "metadata": {
    "papermill": {
     "duration": 0.005089,
     "end_time": "2023-09-05T09:53:26.038546",
     "exception": false,
     "start_time": "2023-09-05T09:53:26.033457",
     "status": "completed"
    },
    "tags": []
   },
   "source": [
    "# • to create a 3x3 matrix with values ranging from 2 to 10"
   ]
  },
  {
   "cell_type": "code",
   "execution_count": 2,
   "id": "6d72be55",
   "metadata": {
    "execution": {
     "iopub.execute_input": "2023-09-05T09:53:26.051844Z",
     "iopub.status.busy": "2023-09-05T09:53:26.051123Z",
     "iopub.status.idle": "2023-09-05T09:53:26.058420Z",
     "shell.execute_reply": "2023-09-05T09:53:26.057216Z"
    },
    "papermill": {
     "duration": 0.017357,
     "end_time": "2023-09-05T09:53:26.061546",
     "exception": false,
     "start_time": "2023-09-05T09:53:26.044189",
     "status": "completed"
    },
    "tags": []
   },
   "outputs": [
    {
     "name": "stdout",
     "output_type": "stream",
     "text": [
      "[[ 2  3  4]\n",
      " [ 5  6  7]\n",
      " [ 8  9 10]]\n"
     ]
    }
   ],
   "source": [
    "# Name : Dharmik M Kukadiya \n",
    "# Enrollment : 216270307003\n",
    "\n",
    "import numpy as np\n",
    "\n",
    "a = np.array([2, 3, 4, 5, 6, 7, 8, 9, 10])\n",
    "\n",
    "n = a.reshape(3, 3)\n",
    "\n",
    "print(n)"
   ]
  },
  {
   "cell_type": "markdown",
   "id": "969d53d5",
   "metadata": {
    "papermill": {
     "duration": 0.005356,
     "end_time": "2023-09-05T09:53:26.072530",
     "exception": false,
     "start_time": "2023-09-05T09:53:26.067174",
     "status": "completed"
    },
    "tags": []
   },
   "source": [
    "# • to append values at the end of an array"
   ]
  },
  {
   "cell_type": "code",
   "execution_count": 3,
   "id": "ce330426",
   "metadata": {
    "execution": {
     "iopub.execute_input": "2023-09-05T09:53:26.086192Z",
     "iopub.status.busy": "2023-09-05T09:53:26.085794Z",
     "iopub.status.idle": "2023-09-05T09:53:26.093251Z",
     "shell.execute_reply": "2023-09-05T09:53:26.091936Z"
    },
    "papermill": {
     "duration": 0.017493,
     "end_time": "2023-09-05T09:53:26.095977",
     "exception": false,
     "start_time": "2023-09-05T09:53:26.078484",
     "status": "completed"
    },
    "tags": []
   },
   "outputs": [
    {
     "name": "stdout",
     "output_type": "stream",
     "text": [
      "Original array:\n",
      "[10, 20, 30]\n",
      "After append values to the end of the array:\n",
      "[10 20 30 40]\n"
     ]
    }
   ],
   "source": [
    "# Name : Dharmik M Kukadiya \n",
    "#Enrollment : 216270307003\n",
    "\n",
    "import numpy as np\n",
    "\n",
    "x = [10, 20, 30]\n",
    "\n",
    "print(\"Original array:\")\n",
    "print(x)\n",
    "\n",
    "x = np.append(x, [40])\n",
    "print(\"After append values to the end of the array:\")\n",
    "\n",
    "print(x)\n"
   ]
  },
  {
   "cell_type": "markdown",
   "id": "ac529d6c",
   "metadata": {
    "papermill": {
     "duration": 0.005358,
     "end_time": "2023-09-05T09:53:26.107161",
     "exception": false,
     "start_time": "2023-09-05T09:53:26.101803",
     "status": "completed"
    },
    "tags": []
   },
   "source": [
    "# • to create another shape from an array without changing its data (3*2 to 2*3) "
   ]
  },
  {
   "cell_type": "code",
   "execution_count": 4,
   "id": "d97459bf",
   "metadata": {
    "execution": {
     "iopub.execute_input": "2023-09-05T09:53:26.120421Z",
     "iopub.status.busy": "2023-09-05T09:53:26.120021Z",
     "iopub.status.idle": "2023-09-05T09:53:26.127659Z",
     "shell.execute_reply": "2023-09-05T09:53:26.126482Z"
    },
    "papermill": {
     "duration": 0.017788,
     "end_time": "2023-09-05T09:53:26.130696",
     "exception": false,
     "start_time": "2023-09-05T09:53:26.112908",
     "status": "completed"
    },
    "tags": []
   },
   "outputs": [
    {
     "name": "stdout",
     "output_type": "stream",
     "text": [
      "Reshape 3x2:\n",
      "[[1 2]\n",
      " [3 4]\n",
      " [5 6]]\n",
      "Reshape 2x3:\n",
      "[[1 2 3]\n",
      " [4 5 6]]\n"
     ]
    }
   ],
   "source": [
    "# Name : Dharmik M Kukadiya \n",
    "#Enrollment : 216270307003\n",
    "\n",
    "import numpy as np\n",
    "\n",
    "x = np.array([1, 2, 3, 4, 5, 6])\n",
    "\n",
    "y = np.reshape(x,(3,2))\n",
    "\n",
    "print(\"Reshape 3x2:\")\n",
    "print(y)\n",
    "\n",
    "z = np.reshape(x,(2,3))\n",
    "print(\"Reshape 2x3:\")\n",
    "\n",
    "print(z)\n"
   ]
  }
 ],
 "kernelspec": {
  "display_name": "Python 3",
  "language": "python",
  "name": "python3"
 },
 "language_info": {
  "codemirror_mode": {
   "name": "ipython",
   "version": 3
  },
  "file_extension": ".py",
  "mimetype": "text/x-python",
  "name": "python",
  "nbconvert_exporter": "python",
  "pygments_lexer": "ipython3",
  "version": "3.6.4"
 },
 "metadata": {
  "kernelspec": {
   "display_name": "Python 3",
   "language": "python",
   "name": "python3"
  },
  "language_info": {
   "codemirror_mode": {
    "name": "ipython",
    "version": 3
   },
   "file_extension": ".py",
   "mimetype": "text/x-python",
   "name": "python",
   "nbconvert_exporter": "python",
   "pygments_lexer": "ipython3",
   "version": "3.10.12"
  },
  "papermill": {
   "default_parameters": {},
   "duration": 4.293584,
   "end_time": "2023-09-05T09:53:26.556841",
   "environment_variables": {},
   "exception": null,
   "input_path": "__notebook__.ipynb",
   "output_path": "__notebook__.ipynb",
   "parameters": {},
   "start_time": "2023-09-05T09:53:22.263257",
   "version": "2.4.0"
  }
 },
 "nbformat": 4,
 "nbformat_minor": 5
}
