{
 "cells": [
  {
   "cell_type": "markdown",
   "id": "76dbc3ea",
   "metadata": {
    "papermill": {
     "duration": 0.005809,
     "end_time": "2023-09-09T12:30:45.820973",
     "exception": false,
     "start_time": "2023-09-09T12:30:45.815164",
     "status": "completed"
    },
    "tags": []
   },
   "source": [
    "# Practical 2 : Write a NumPy program to implement following operation"
   ]
  },
  {
   "cell_type": "markdown",
   "id": "84533395",
   "metadata": {
    "papermill": {
     "duration": 0.004707,
     "end_time": "2023-09-09T12:30:45.830949",
     "exception": false,
     "start_time": "2023-09-09T12:30:45.826242",
     "status": "completed"
    },
    "tags": []
   },
   "source": [
    "### • to convert a list of numeric values into a one-dimensional NumPy array"
   ]
  },
  {
   "cell_type": "code",
   "execution_count": 1,
   "id": "9506e315",
   "metadata": {
    "execution": {
     "iopub.execute_input": "2023-09-09T12:30:45.843255Z",
     "iopub.status.busy": "2023-09-09T12:30:45.842117Z",
     "iopub.status.idle": "2023-09-09T12:30:45.857707Z",
     "shell.execute_reply": "2023-09-09T12:30:45.856448Z"
    },
    "papermill": {
     "duration": 0.024224,
     "end_time": "2023-09-09T12:30:45.860102",
     "exception": false,
     "start_time": "2023-09-09T12:30:45.835878",
     "status": "completed"
    },
    "tags": []
   },
   "outputs": [
    {
     "name": "stdout",
     "output_type": "stream",
     "text": [
      "List:  [1, 7, 0, 6, 2, 5, 6]\n",
      "Array:  [1 7 0 6 2 5 6]\n"
     ]
    }
   ],
   "source": [
    "# Name : Dharmik M Kukadiya \n",
    "#Enrollment : 216270307003\n",
    "\n",
    "import numpy\n",
    "\n",
    "l = [1, 7, 0, 6, 2, 5, 6]\n",
    "\n",
    "a = numpy.array(l)\n",
    "\n",
    "print (\"List: \", l)\n",
    "\n",
    "print (\"Array: \", a)"
   ]
  },
  {
   "cell_type": "markdown",
   "id": "beb4b872",
   "metadata": {
    "papermill": {
     "duration": 0.004732,
     "end_time": "2023-09-09T12:30:45.870121",
     "exception": false,
     "start_time": "2023-09-09T12:30:45.865389",
     "status": "completed"
    },
    "tags": []
   },
   "source": [
    "### • to create a 3x3 matrix with values ranging from 2 to 10"
   ]
  },
  {
   "cell_type": "code",
   "execution_count": 2,
   "id": "58ccab3e",
   "metadata": {
    "execution": {
     "iopub.execute_input": "2023-09-09T12:30:45.881582Z",
     "iopub.status.busy": "2023-09-09T12:30:45.881193Z",
     "iopub.status.idle": "2023-09-09T12:30:45.887397Z",
     "shell.execute_reply": "2023-09-09T12:30:45.886642Z"
    },
    "papermill": {
     "duration": 0.014841,
     "end_time": "2023-09-09T12:30:45.889898",
     "exception": false,
     "start_time": "2023-09-09T12:30:45.875057",
     "status": "completed"
    },
    "tags": []
   },
   "outputs": [
    {
     "name": "stdout",
     "output_type": "stream",
     "text": [
      "[[ 2  3  4]\n",
      " [ 5  6  7]\n",
      " [ 8  9 10]]\n"
     ]
    }
   ],
   "source": [
    "# Name : Dharmik M Kukadiya \n",
    "# Enrollment : 216270307003\n",
    "\n",
    "import numpy as np\n",
    "\n",
    "a = np.array([2, 3, 4, 5, 6, 7, 8, 9, 10])\n",
    "\n",
    "n = a.reshape(3, 3)\n",
    "\n",
    "print(n)"
   ]
  },
  {
   "cell_type": "markdown",
   "id": "578e27d5",
   "metadata": {
    "papermill": {
     "duration": 0.005014,
     "end_time": "2023-09-09T12:30:45.900060",
     "exception": false,
     "start_time": "2023-09-09T12:30:45.895046",
     "status": "completed"
    },
    "tags": []
   },
   "source": [
    "### • to append values at the end of an array"
   ]
  },
  {
   "cell_type": "code",
   "execution_count": 3,
   "id": "710dffa5",
   "metadata": {
    "execution": {
     "iopub.execute_input": "2023-09-09T12:30:45.912412Z",
     "iopub.status.busy": "2023-09-09T12:30:45.911322Z",
     "iopub.status.idle": "2023-09-09T12:30:45.918066Z",
     "shell.execute_reply": "2023-09-09T12:30:45.917010Z"
    },
    "papermill": {
     "duration": 0.015331,
     "end_time": "2023-09-09T12:30:45.920420",
     "exception": false,
     "start_time": "2023-09-09T12:30:45.905089",
     "status": "completed"
    },
    "tags": []
   },
   "outputs": [
    {
     "name": "stdout",
     "output_type": "stream",
     "text": [
      "Original array:\n",
      "[10, 20, 30]\n",
      "After append values to the end of the array:\n",
      "[10 20 30 40]\n"
     ]
    }
   ],
   "source": [
    "# Name : Dharmik M Kukadiya \n",
    "#Enrollment : 216270307003\n",
    "\n",
    "import numpy as np\n",
    "\n",
    "x = [10, 20, 30]\n",
    "\n",
    "print(\"Original array:\")\n",
    "print(x)\n",
    "\n",
    "x = np.append(x, [40])\n",
    "print(\"After append values to the end of the array:\")\n",
    "\n",
    "print(x)\n"
   ]
  },
  {
   "cell_type": "markdown",
   "id": "3bac3a4f",
   "metadata": {
    "papermill": {
     "duration": 0.005049,
     "end_time": "2023-09-09T12:30:45.930951",
     "exception": false,
     "start_time": "2023-09-09T12:30:45.925902",
     "status": "completed"
    },
    "tags": []
   },
   "source": [
    "### • to create another shape from an array without changing its data (3*2 to 2*3) "
   ]
  },
  {
   "cell_type": "code",
   "execution_count": 4,
   "id": "4651751e",
   "metadata": {
    "execution": {
     "iopub.execute_input": "2023-09-09T12:30:45.943393Z",
     "iopub.status.busy": "2023-09-09T12:30:45.943032Z",
     "iopub.status.idle": "2023-09-09T12:30:45.949888Z",
     "shell.execute_reply": "2023-09-09T12:30:45.948853Z"
    },
    "papermill": {
     "duration": 0.016816,
     "end_time": "2023-09-09T12:30:45.953096",
     "exception": false,
     "start_time": "2023-09-09T12:30:45.936280",
     "status": "completed"
    },
    "tags": []
   },
   "outputs": [
    {
     "name": "stdout",
     "output_type": "stream",
     "text": [
      "Reshape 3x2:\n",
      "[[1 2]\n",
      " [3 4]\n",
      " [5 6]]\n",
      "Reshape 2x3:\n",
      "[[1 2 3]\n",
      " [4 5 6]]\n"
     ]
    }
   ],
   "source": [
    "# Name : Dharmik M Kukadiya \n",
    "#Enrollment : 216270307003\n",
    "\n",
    "import numpy as np\n",
    "\n",
    "x = np.array([1, 2, 3, 4, 5, 6])\n",
    "\n",
    "y = np.reshape(x,(3,2))\n",
    "\n",
    "print(\"Reshape 3x2:\")\n",
    "print(y)\n",
    "\n",
    "z = np.reshape(x,(2,3))\n",
    "print(\"Reshape 2x3:\")\n",
    "\n",
    "print(z)\n"
   ]
  }
 ],
 "kernelspec": {
  "display_name": "Python 3",
  "language": "python",
  "name": "python3"
 },
 "language_info": {
  "codemirror_mode": {
   "name": "ipython",
   "version": 3
  },
  "file_extension": ".py",
  "mimetype": "text/x-python",
  "name": "python",
  "nbconvert_exporter": "python",
  "pygments_lexer": "ipython3",
  "version": "3.6.4"
 },
 "metadata": {
  "kernelspec": {
   "display_name": "Python 3",
   "language": "python",
   "name": "python3"
  },
  "language_info": {
   "codemirror_mode": {
    "name": "ipython",
    "version": 3
   },
   "file_extension": ".py",
   "mimetype": "text/x-python",
   "name": "python",
   "nbconvert_exporter": "python",
   "pygments_lexer": "ipython3",
   "version": "3.10.12"
  },
  "papermill": {
   "default_parameters": {},
   "duration": 4.297463,
   "end_time": "2023-09-09T12:30:46.378067",
   "environment_variables": {},
   "exception": null,
   "input_path": "__notebook__.ipynb",
   "output_path": "__notebook__.ipynb",
   "parameters": {},
   "start_time": "2023-09-09T12:30:42.080604",
   "version": "2.4.0"
  }
 },
 "nbformat": 4,
 "nbformat_minor": 5
}
