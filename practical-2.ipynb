{
 "cells": [
  {
   "cell_type": "markdown",
   "id": "e4f9da0f",
   "metadata": {
    "papermill": {
     "duration": 0.006868,
     "end_time": "2023-09-05T09:51:46.177130",
     "exception": false,
     "start_time": "2023-09-05T09:51:46.170262",
     "status": "completed"
    },
    "tags": []
   },
   "source": [
    "# Practical 2 : Write a NumPy program to implement following operation"
   ]
  },
  {
   "cell_type": "markdown",
   "id": "0cb2973d",
   "metadata": {
    "papermill": {
     "duration": 0.00548,
     "end_time": "2023-09-05T09:51:46.189287",
     "exception": false,
     "start_time": "2023-09-05T09:51:46.183807",
     "status": "completed"
    },
    "tags": []
   },
   "source": [
    "# • to convert a list of numeric values into a one-dimensional NumPy array"
   ]
  },
  {
   "cell_type": "code",
   "execution_count": 1,
   "id": "be24dc67",
   "metadata": {
    "execution": {
     "iopub.execute_input": "2023-09-05T09:51:46.204152Z",
     "iopub.status.busy": "2023-09-05T09:51:46.202607Z",
     "iopub.status.idle": "2023-09-05T09:51:46.221044Z",
     "shell.execute_reply": "2023-09-05T09:51:46.219642Z"
    },
    "papermill": {
     "duration": 0.029531,
     "end_time": "2023-09-05T09:51:46.224464",
     "exception": false,
     "start_time": "2023-09-05T09:51:46.194933",
     "status": "completed"
    },
    "tags": []
   },
   "outputs": [
    {
     "name": "stdout",
     "output_type": "stream",
     "text": [
      "List:  [1, 7, 0, 6, 2, 5, 6]\n",
      "Array:  [1 7 0 6 2 5 6]\n"
     ]
    }
   ],
   "source": [
    "# Name : Dharmik M Kukadiya \n",
    "#Enrollment : 216270307003\n",
    "\n",
    "import numpy\n",
    "\n",
    "l = [1, 7, 0, 6, 2, 5, 6]\n",
    "\n",
    "a = numpy.array(l)\n",
    "\n",
    "print (\"List: \", l)\n",
    "\n",
    "print (\"Array: \", a)"
   ]
  },
  {
   "cell_type": "markdown",
   "id": "7341d614",
   "metadata": {
    "papermill": {
     "duration": 0.005502,
     "end_time": "2023-09-05T09:51:46.236105",
     "exception": false,
     "start_time": "2023-09-05T09:51:46.230603",
     "status": "completed"
    },
    "tags": []
   },
   "source": [
    "# • to create a 3x3 matrix with values ranging from 2 to 10"
   ]
  },
  {
   "cell_type": "code",
   "execution_count": 2,
   "id": "d7217ee0",
   "metadata": {
    "execution": {
     "iopub.execute_input": "2023-09-05T09:51:46.250119Z",
     "iopub.status.busy": "2023-09-05T09:51:46.249626Z",
     "iopub.status.idle": "2023-09-05T09:51:46.257614Z",
     "shell.execute_reply": "2023-09-05T09:51:46.256131Z"
    },
    "papermill": {
     "duration": 0.018683,
     "end_time": "2023-09-05T09:51:46.260575",
     "exception": false,
     "start_time": "2023-09-05T09:51:46.241892",
     "status": "completed"
    },
    "tags": []
   },
   "outputs": [
    {
     "name": "stdout",
     "output_type": "stream",
     "text": [
      "[[ 2  3  4]\n",
      " [ 5  6  7]\n",
      " [ 8  9 10]]\n"
     ]
    }
   ],
   "source": [
    "# Name : Dharmik M Kukadiya \n",
    "# Enrollment : 216270307003\n",
    "\n",
    "import numpy as np\n",
    "\n",
    "a = np.array([2, 3, 4, 5, 6, 7, 8, 9, 10])\n",
    "\n",
    "n = a.reshape(3, 3)\n",
    "\n",
    "print(n)"
   ]
  },
  {
   "cell_type": "markdown",
   "id": "50d73d6f",
   "metadata": {
    "papermill": {
     "duration": 0.00598,
     "end_time": "2023-09-05T09:51:46.272732",
     "exception": false,
     "start_time": "2023-09-05T09:51:46.266752",
     "status": "completed"
    },
    "tags": []
   },
   "source": [
    "# • to append values at the end of an array"
   ]
  },
  {
   "cell_type": "code",
   "execution_count": 3,
   "id": "f4a012d5",
   "metadata": {
    "execution": {
     "iopub.execute_input": "2023-09-05T09:51:46.287541Z",
     "iopub.status.busy": "2023-09-05T09:51:46.287049Z",
     "iopub.status.idle": "2023-09-05T09:51:46.295642Z",
     "shell.execute_reply": "2023-09-05T09:51:46.294152Z"
    },
    "papermill": {
     "duration": 0.019907,
     "end_time": "2023-09-05T09:51:46.298971",
     "exception": false,
     "start_time": "2023-09-05T09:51:46.279064",
     "status": "completed"
    },
    "tags": []
   },
   "outputs": [
    {
     "name": "stdout",
     "output_type": "stream",
     "text": [
      "Original array:\n",
      "[10, 20, 30]\n",
      "After append values to the end of the array:\n",
      "[10 20 30 40]\n"
     ]
    }
   ],
   "source": [
    "# Name : Dharmik M Kukadiya \n",
    "#Enrollment : 216270307003\n",
    "\n",
    "import numpy as np\n",
    "\n",
    "x = [10, 20, 30]\n",
    "\n",
    "print(\"Original array:\")\n",
    "print(x)\n",
    "\n",
    "x = np.append(x, [40])\n",
    "print(\"After append values to the end of the array:\")\n",
    "\n",
    "print(x)\n"
   ]
  },
  {
   "cell_type": "markdown",
   "id": "c3653471",
   "metadata": {
    "papermill": {
     "duration": 0.00575,
     "end_time": "2023-09-05T09:51:46.311344",
     "exception": false,
     "start_time": "2023-09-05T09:51:46.305594",
     "status": "completed"
    },
    "tags": []
   },
   "source": [
    "# • to create another shape from an array without changing its data (3*2 to 2*3) "
   ]
  },
  {
   "cell_type": "code",
   "execution_count": 4,
   "id": "b27f3d1c",
   "metadata": {
    "execution": {
     "iopub.execute_input": "2023-09-05T09:51:46.326613Z",
     "iopub.status.busy": "2023-09-05T09:51:46.325112Z",
     "iopub.status.idle": "2023-09-05T09:51:46.334359Z",
     "shell.execute_reply": "2023-09-05T09:51:46.332879Z"
    },
    "papermill": {
     "duration": 0.019596,
     "end_time": "2023-09-05T09:51:46.337077",
     "exception": false,
     "start_time": "2023-09-05T09:51:46.317481",
     "status": "completed"
    },
    "tags": []
   },
   "outputs": [
    {
     "name": "stdout",
     "output_type": "stream",
     "text": [
      "Reshape 3x2:\n",
      "[[1 2]\n",
      " [3 4]\n",
      " [5 6]]\n",
      "Reshape 2x3:\n",
      "[[1 2 3]\n",
      " [4 5 6]]\n"
     ]
    }
   ],
   "source": [
    "# Name : Dharmik M Kukadiya \n",
    "#Enrollment : 216270307003\n",
    "\n",
    "import numpy as np\n",
    "\n",
    "x = np.array([1, 2, 3, 4, 5, 6])\n",
    "\n",
    "y = np.reshape(x,(3,2))\n",
    "\n",
    "print(\"Reshape 3x2:\")\n",
    "print(y)\n",
    "\n",
    "z = np.reshape(x,(2,3))\n",
    "print(\"Reshape 2x3:\")\n",
    "\n",
    "print(z)\n"
   ]
  }
 ],
 "kernelspec": {
  "display_name": "Python 3",
  "language": "python",
  "name": "python3"
 },
 "language_info": {
  "codemirror_mode": {
   "name": "ipython",
   "version": 3
  },
  "file_extension": ".py",
  "mimetype": "text/x-python",
  "name": "python",
  "nbconvert_exporter": "python",
  "pygments_lexer": "ipython3",
  "version": "3.6.4"
 },
 "metadata": {
  "kernelspec": {
   "display_name": "Python 3",
   "language": "python",
   "name": "python3"
  },
  "language_info": {
   "codemirror_mode": {
    "name": "ipython",
    "version": 3
   },
   "file_extension": ".py",
   "mimetype": "text/x-python",
   "name": "python",
   "nbconvert_exporter": "python",
   "pygments_lexer": "ipython3",
   "version": "3.10.12"
  },
  "papermill": {
   "default_parameters": {},
   "duration": 4.871044,
   "end_time": "2023-09-05T09:51:46.865511",
   "environment_variables": {},
   "exception": null,
   "input_path": "__notebook__.ipynb",
   "output_path": "__notebook__.ipynb",
   "parameters": {},
   "start_time": "2023-09-05T09:51:41.994467",
   "version": "2.4.0"
  }
 },
 "nbformat": 4,
 "nbformat_minor": 5
}
