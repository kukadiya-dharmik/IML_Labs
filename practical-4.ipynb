{
 "cells": [
  {
   "cell_type": "markdown",
   "id": "a72de029",
   "metadata": {
    "_cell_guid": "b1076dfc-b9ad-4769-8c92-a6c4dae69d19",
    "_uuid": "8f2839f25d086af736a60e9eeb907d3b93b6e0e5",
    "papermill": {
     "duration": 0.006445,
     "end_time": "2023-09-11T10:47:23.007464",
     "exception": false,
     "start_time": "2023-09-11T10:47:23.001019",
     "status": "completed"
    },
    "tags": []
   },
   "source": [
    "# Practical - 4 : Write a NumPy program to implementfollowing operation"
   ]
  },
  {
   "cell_type": "markdown",
   "id": "0e7500d1",
   "metadata": {
    "papermill": {
     "duration": 0.00561,
     "end_time": "2023-09-11T10:47:23.019074",
     "exception": false,
     "start_time": "2023-09-11T10:47:23.013464",
     "status": "completed"
    },
    "tags": []
   },
   "source": [
    "### • to add, subtract, multiply, divide arguments element-wise"
   ]
  },
  {
   "cell_type": "code",
   "execution_count": 1,
   "id": "5f848d3f",
   "metadata": {
    "execution": {
     "iopub.execute_input": "2023-09-11T10:47:23.032807Z",
     "iopub.status.busy": "2023-09-11T10:47:23.032214Z",
     "iopub.status.idle": "2023-09-11T10:47:23.047614Z",
     "shell.execute_reply": "2023-09-11T10:47:23.046813Z"
    },
    "papermill": {
     "duration": 0.025532,
     "end_time": "2023-09-11T10:47:23.050088",
     "exception": false,
     "start_time": "2023-09-11T10:47:23.024556",
     "status": "completed"
    },
    "tags": []
   },
   "outputs": [
    {
     "name": "stdout",
     "output_type": "stream",
     "text": [
      "Add :- 3.0\n",
      "Subtract :- -1.0\n",
      "Multiply :- 2.0\n",
      "Divide :- 0.5\n"
     ]
    }
   ],
   "source": [
    "# Name : Dharmik M Kukadiya\n",
    "# Enrollment No : 216270307003\n",
    "\n",
    "import numpy as np\n",
    "\n",
    "print(\"Add :- \",end =\"\")\n",
    "print(np.add(1.0,2.0))\n",
    "\n",
    "print(\"Subtract :- \",end=\"\")\n",
    "print(np.subtract(1.0,2.0))\n",
    "\n",
    "print(\"Multiply :- \",end=\"\")\n",
    "print(np.multiply(1.0,2.0))\n",
    "\n",
    "print(\"Divide :- \",end=\"\")\n",
    "print(np.divide(1.0,2.0))"
   ]
  },
  {
   "cell_type": "markdown",
   "id": "8d397a93",
   "metadata": {
    "papermill": {
     "duration": 0.005309,
     "end_time": "2023-09-11T10:47:23.061335",
     "exception": false,
     "start_time": "2023-09-11T10:47:23.056026",
     "status": "completed"
    },
    "tags": []
   },
   "source": [
    "### • to round elements of the array to the nearest integer"
   ]
  },
  {
   "cell_type": "code",
   "execution_count": 2,
   "id": "0af1a333",
   "metadata": {
    "execution": {
     "iopub.execute_input": "2023-09-11T10:47:23.075064Z",
     "iopub.status.busy": "2023-09-11T10:47:23.073946Z",
     "iopub.status.idle": "2023-09-11T10:47:23.083628Z",
     "shell.execute_reply": "2023-09-11T10:47:23.082444Z"
    },
    "papermill": {
     "duration": 0.01939,
     "end_time": "2023-09-11T10:47:23.086299",
     "exception": false,
     "start_time": "2023-09-11T10:47:23.066909",
     "status": "completed"
    },
    "tags": []
   },
   "outputs": [
    {
     "name": "stdout",
     "output_type": "stream",
     "text": [
      "Original array :- [0.2 0.7 1.3 1.5]\n",
      "After rounding array :- [0. 1. 1. 2.]\n"
     ]
    }
   ],
   "source": [
    "# Name : Dharmik M Kukadiya\n",
    "# Enrollment No : 216270307003\n",
    "\n",
    "import numpy as np\n",
    "\n",
    "arr = np.array([0.2,0.7,1.3,1.5])\n",
    "print(\"Original array :- \",end=\"\")\n",
    "print(arr)\n",
    "\n",
    "arr = np.rint(arr)\n",
    "print(\"After rounding array :- \",end=\"\")\n",
    "print(arr)"
   ]
  },
  {
   "cell_type": "markdown",
   "id": "62d74bb9",
   "metadata": {
    "papermill": {
     "duration": 0.005411,
     "end_time": "2023-09-11T10:47:23.097321",
     "exception": false,
     "start_time": "2023-09-11T10:47:23.091910",
     "status": "completed"
    },
    "tags": []
   },
   "source": [
    "### • to calculate mean across dimension, in a 2D numpy array"
   ]
  },
  {
   "cell_type": "code",
   "execution_count": 3,
   "id": "0188e343",
   "metadata": {
    "execution": {
     "iopub.execute_input": "2023-09-11T10:47:23.111017Z",
     "iopub.status.busy": "2023-09-11T10:47:23.110070Z",
     "iopub.status.idle": "2023-09-11T10:47:23.119440Z",
     "shell.execute_reply": "2023-09-11T10:47:23.117985Z"
    },
    "papermill": {
     "duration": 0.018989,
     "end_time": "2023-09-11T10:47:23.121632",
     "exception": false,
     "start_time": "2023-09-11T10:47:23.102643",
     "status": "completed"
    },
    "tags": []
   },
   "outputs": [
    {
     "name": "stdout",
     "output_type": "stream",
     "text": [
      "Original array :- [[10 20]\n",
      " [40 50]]\n",
      "[25. 35.]\n",
      "[15. 45.]\n"
     ]
    }
   ],
   "source": [
    "# Name : Dharmik M Kukadiya\n",
    "# Enrollment No : 216270307003\n",
    "\n",
    "import numpy as np\n",
    "\n",
    "arr = np.array([[10,20],[40,50]])\n",
    "print(\"Original array :- \",end=\"\")\n",
    "print(arr)\n",
    "\n",
    "x = np.mean(arr,axis=0)\n",
    "print(x)\n",
    "\n",
    "y = np.mean(arr,axis=1)\n",
    "print(y)"
   ]
  },
  {
   "cell_type": "markdown",
   "id": "5286b3df",
   "metadata": {
    "papermill": {
     "duration": 0.005287,
     "end_time": "2023-09-11T10:47:23.132737",
     "exception": false,
     "start_time": "2023-09-11T10:47:23.127450",
     "status": "completed"
    },
    "tags": []
   },
   "source": [
    "### • to calculate the difference between neighboring elements, element-wise of a given array"
   ]
  },
  {
   "cell_type": "code",
   "execution_count": 4,
   "id": "cbd847b3",
   "metadata": {
    "execution": {
     "iopub.execute_input": "2023-09-11T10:47:23.145386Z",
     "iopub.status.busy": "2023-09-11T10:47:23.144905Z",
     "iopub.status.idle": "2023-09-11T10:47:23.154873Z",
     "shell.execute_reply": "2023-09-11T10:47:23.153774Z"
    },
    "papermill": {
     "duration": 0.019285,
     "end_time": "2023-09-11T10:47:23.157443",
     "exception": false,
     "start_time": "2023-09-11T10:47:23.138158",
     "status": "completed"
    },
    "tags": []
   },
   "outputs": [
    {
     "name": "stdout",
     "output_type": "stream",
     "text": [
      "Original array :- [  5   9  25  50  75  95 125 150]\n",
      "Ans :- [ 4 16 25 25 20 30 25]\n"
     ]
    }
   ],
   "source": [
    "# Name : Dharmik M Kukadiya\n",
    "# Enrollment No : 216270307003\n",
    "\n",
    "import numpy as np\n",
    "\n",
    "arr = np.array([5,9,25,50,75,95,125,150])\n",
    "print(\"Original array :- \",end=\"\")\n",
    "print(arr)\n",
    "\n",
    "ans = np.diff(arr)\n",
    "print(\"Ans :- \",end=\"\")\n",
    "print(ans)"
   ]
  }
 ],
 "kernelspec": {
  "display_name": "Python 3",
  "language": "python",
  "name": "python3"
 },
 "language_info": {
  "codemirror_mode": {
   "name": "ipython",
   "version": 3
  },
  "file_extension": ".py",
  "mimetype": "text/x-python",
  "name": "python",
  "nbconvert_exporter": "python",
  "pygments_lexer": "ipython3",
  "version": "3.6.4"
 },
 "metadata": {
  "kernelspec": {
   "display_name": "Python 3",
   "language": "python",
   "name": "python3"
  },
  "language_info": {
   "codemirror_mode": {
    "name": "ipython",
    "version": 3
   },
   "file_extension": ".py",
   "mimetype": "text/x-python",
   "name": "python",
   "nbconvert_exporter": "python",
   "pygments_lexer": "ipython3",
   "version": "3.10.12"
  },
  "papermill": {
   "default_parameters": {},
   "duration": 4.631689,
   "end_time": "2023-09-11T10:47:23.685311",
   "environment_variables": {},
   "exception": null,
   "input_path": "__notebook__.ipynb",
   "output_path": "__notebook__.ipynb",
   "parameters": {},
   "start_time": "2023-09-11T10:47:19.053622",
   "version": "2.4.0"
  }
 },
 "nbformat": 4,
 "nbformat_minor": 5
}
