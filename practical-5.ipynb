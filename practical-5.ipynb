{
 "cells": [
  {
   "cell_type": "markdown",
   "id": "1cd5ca23",
   "metadata": {
    "_cell_guid": "b1076dfc-b9ad-4769-8c92-a6c4dae69d19",
    "_uuid": "8f2839f25d086af736a60e9eeb907d3b93b6e0e5",
    "papermill": {
     "duration": 0.004892,
     "end_time": "2023-09-11T11:31:37.817009",
     "exception": false,
     "start_time": "2023-09-11T11:31:37.812117",
     "status": "completed"
    },
    "tags": []
   },
   "source": [
    "# Practical - 5 : Write a NumPy program to implement following operation"
   ]
  },
  {
   "cell_type": "markdown",
   "id": "0c320c24",
   "metadata": {
    "papermill": {
     "duration": 0.003991,
     "end_time": "2023-09-11T11:31:37.825905",
     "exception": false,
     "start_time": "2023-09-11T11:31:37.821914",
     "status": "completed"
    },
    "tags": []
   },
   "source": [
    "### • to find the maximum and minimum value of a given flattened array"
   ]
  },
  {
   "cell_type": "code",
   "execution_count": 1,
   "id": "e0133b96",
   "metadata": {
    "execution": {
     "iopub.execute_input": "2023-09-11T11:31:37.836470Z",
     "iopub.status.busy": "2023-09-11T11:31:37.835796Z",
     "iopub.status.idle": "2023-09-11T11:31:37.853106Z",
     "shell.execute_reply": "2023-09-11T11:31:37.851911Z"
    },
    "papermill": {
     "duration": 0.025843,
     "end_time": "2023-09-11T11:31:37.855786",
     "exception": false,
     "start_time": "2023-09-11T11:31:37.829943",
     "status": "completed"
    },
    "tags": []
   },
   "outputs": [
    {
     "name": "stdout",
     "output_type": "stream",
     "text": [
      "Original array :- [[18 34 74]\n",
      " [25 56 84]]\n",
      "Maximum value :- 84\n",
      "Minimum value :- 18\n"
     ]
    }
   ],
   "source": [
    "# Name : Dharmik M Kukadiya\n",
    "# Enrollment No : 216270307003\n",
    "\n",
    "import numpy as np\n",
    "\n",
    "arr = np.array([[18,34,74],[25,56,84]])\n",
    "\n",
    "print(\"Original array :- \",end=\"\")\n",
    "print(arr)\n",
    "\n",
    "print(\"Maximum value :- \",end=\"\")\n",
    "max = np.amax(arr)\n",
    "print(max)\n",
    "\n",
    "print(\"Minimum value :- \",end=\"\")\n",
    "min = np.amin(arr)\n",
    "print(min)"
   ]
  },
  {
   "cell_type": "markdown",
   "id": "9ceb0b65",
   "metadata": {
    "papermill": {
     "duration": 0.004153,
     "end_time": "2023-09-11T11:31:37.864288",
     "exception": false,
     "start_time": "2023-09-11T11:31:37.860135",
     "status": "completed"
    },
    "tags": []
   },
   "source": [
    "### • to compute the mean, standard deviation, and variance of a given array along the second axis"
   ]
  },
  {
   "cell_type": "code",
   "execution_count": 2,
   "id": "e987ea30",
   "metadata": {
    "execution": {
     "iopub.execute_input": "2023-09-11T11:31:37.874690Z",
     "iopub.status.busy": "2023-09-11T11:31:37.874261Z",
     "iopub.status.idle": "2023-09-11T11:31:37.885471Z",
     "shell.execute_reply": "2023-09-11T11:31:37.884232Z"
    },
    "papermill": {
     "duration": 0.019478,
     "end_time": "2023-09-11T11:31:37.888011",
     "exception": false,
     "start_time": "2023-09-11T11:31:37.868533",
     "status": "completed"
    },
    "tags": []
   },
   "outputs": [
    {
     "name": "stdout",
     "output_type": "stream",
     "text": [
      "Original array :- [[10 20 30]\n",
      " [40 50 60]]\n",
      "Mean value :-[20. 50.]\n",
      "Standar deviation :- [8.16496581 8.16496581]\n",
      "Variance :- [66.66666667 66.66666667]\n"
     ]
    }
   ],
   "source": [
    "# Name : Dharmik M Kukadiya\n",
    "# Enrollment No : 216270307003\n",
    "\n",
    "import numpy as np\n",
    "\n",
    "arr = np.array([[10,20,30],[40,50,60]])\n",
    "\n",
    "print(\"Original array :- \",end=\"\")\n",
    "print(arr)\n",
    "\n",
    "mean = np.mean(arr, axis = 1)\n",
    "print(\"Mean value :-\",end=\"\")\n",
    "print(mean)\n",
    "\n",
    "std = np.std(arr, axis = 1)\n",
    "print(\"Standar deviation :- \",end=\"\")\n",
    "print(std)\n",
    "\n",
    "var = np.var(arr, axis = 1)\n",
    "print(\"Variance :- \",end=\"\")\n",
    "print(var)"
   ]
  }
 ],
 "kernelspec": {
  "display_name": "Python 3",
  "language": "python",
  "name": "python3"
 },
 "language_info": {
  "codemirror_mode": {
   "name": "ipython",
   "version": 3
  },
  "file_extension": ".py",
  "mimetype": "text/x-python",
  "name": "python",
  "nbconvert_exporter": "python",
  "pygments_lexer": "ipython3",
  "version": "3.6.4"
 },
 "metadata": {
  "kernelspec": {
   "display_name": "Python 3",
   "language": "python",
   "name": "python3"
  },
  "language_info": {
   "codemirror_mode": {
    "name": "ipython",
    "version": 3
   },
   "file_extension": ".py",
   "mimetype": "text/x-python",
   "name": "python",
   "nbconvert_exporter": "python",
   "pygments_lexer": "ipython3",
   "version": "3.10.12"
  },
  "papermill": {
   "default_parameters": {},
   "duration": 4.161906,
   "end_time": "2023-09-11T11:31:38.313304",
   "environment_variables": {},
   "exception": null,
   "input_path": "__notebook__.ipynb",
   "output_path": "__notebook__.ipynb",
   "parameters": {},
   "start_time": "2023-09-11T11:31:34.151398",
   "version": "2.4.0"
  }
 },
 "nbformat": 4,
 "nbformat_minor": 5
}
